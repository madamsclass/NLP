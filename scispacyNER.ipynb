{
  "nbformat": 4,
  "nbformat_minor": 0,
  "metadata": {
    "colab": {
      "provenance": [],
      "authorship_tag": "ABX9TyPXthtzMm6uluKdz7F8xFhM",
      "include_colab_link": true
    },
    "kernelspec": {
      "name": "python3",
      "display_name": "Python 3"
    },
    "language_info": {
      "name": "python"
    }
  },
  "cells": [
    {
      "cell_type": "markdown",
      "metadata": {
        "id": "view-in-github",
        "colab_type": "text"
      },
      "source": [
        "<a href=\"https://colab.research.google.com/github/madamsclass/NLP/blob/main/scispacyNER.ipynb\" target=\"_parent\"><img src=\"https://colab.research.google.com/assets/colab-badge.svg\" alt=\"Open In Colab\"/></a>"
      ]
    },
    {
      "cell_type": "code",
      "execution_count": null,
      "metadata": {
        "id": "HGdeWdFzMKVf"
      },
      "outputs": [],
      "source": [
        "import spacy"
      ]
    },
    {
      "cell_type": "code",
      "source": [
        "!pip install scispacy\n"
      ],
      "metadata": {
        "id": "9hFv-cTRQXwi"
      },
      "execution_count": null,
      "outputs": []
    },
    {
      "cell_type": "code",
      "source": [
        "# Load the biomedical NLP model\n",
        "nlp = spacy.load(\"en_ner_bc5cdr_md\")"
      ],
      "metadata": {
        "id": "GHTjxVnMVLsf"
      },
      "execution_count": null,
      "outputs": []
    },
    {
      "cell_type": "code",
      "source": [
        "# Process biomedical text\n",
        "text = \"Alzheimer's disease is a neurodegenerative disorder.\"\n",
        "doc = nlp(text)"
      ],
      "metadata": {
        "id": "6yRTm9fAQqmH"
      },
      "execution_count": null,
      "outputs": []
    },
    {
      "cell_type": "code",
      "source": [
        "# Access token-level information\n",
        "for token in doc:\n",
        "    print(token.text, token.lemma_, token.pos_, token.dep_)"
      ],
      "metadata": {
        "colab": {
          "base_uri": "https://localhost:8080/"
        },
        "id": "H32j2dZoQtRR",
        "outputId": "d693eaee-4f1e-4b26-9c37-4f67762b4c59"
      },
      "execution_count": null,
      "outputs": [
        {
          "output_type": "stream",
          "name": "stdout",
          "text": [
            "Alzheimer alzheimer NOUN nmod:poss\n",
            "'s 's PART case\n",
            "disease disease NOUN nsubj\n",
            "is be VERB cop\n",
            "a a DET det\n",
            "neurodegenerative neurodegenerative ADJ amod\n",
            "disorder disorder NOUN ROOT\n",
            ". . PUNCT punct\n"
          ]
        }
      ]
    },
    {
      "cell_type": "code",
      "source": [
        "# Access entity-level information\n",
        "for ent in doc.ents:\n",
        "    print(ent.text, ent.label_)"
      ],
      "metadata": {
        "colab": {
          "base_uri": "https://localhost:8080/"
        },
        "id": "PV_Vx2UYQv8L",
        "outputId": "5f1c4dfe-41bb-416f-e3f2-63b789bbc7b0"
      },
      "execution_count": null,
      "outputs": [
        {
          "output_type": "stream",
          "name": "stdout",
          "text": [
            "Alzheimer's disease DISEASE\n",
            "neurodegenerative disorder DISEASE\n"
          ]
        }
      ]
    }
  ]
}