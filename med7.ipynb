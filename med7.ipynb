{
  "nbformat": 4,
  "nbformat_minor": 0,
  "metadata": {
    "colab": {
      "provenance": [],
      "authorship_tag": "ABX9TyNVxg76Q3+aAH0AJXTYIz2z",
      "include_colab_link": true
    },
    "kernelspec": {
      "name": "python3",
      "display_name": "Python 3"
    },
    "language_info": {
      "name": "python"
    }
  },
  "cells": [
    {
      "cell_type": "markdown",
      "metadata": {
        "id": "view-in-github",
        "colab_type": "text"
      },
      "source": [
        "<a href=\"https://colab.research.google.com/github/madamsclass/NLP/blob/main/med7.ipynb\" target=\"_parent\"><img src=\"https://colab.research.google.com/assets/colab-badge.svg\" alt=\"Open In Colab\"/></a>"
      ]
    },
    {
      "cell_type": "code",
      "execution_count": null,
      "metadata": {
        "id": "HGdeWdFzMKVf"
      },
      "outputs": [],
      "source": [
        "import spacy"
      ]
    },
    {
      "cell_type": "code",
      "source": [
        "!pip install scispacy\n"
      ],
      "metadata": {
        "id": "9hFv-cTRQXwi"
      },
      "execution_count": null,
      "outputs": []
    },
    {
      "cell_type": "code",
      "source": [
        "from scispacy.terms import med7"
      ],
      "metadata": {
        "id": "LPb4YyiXZyOU"
      },
      "execution_count": null,
      "outputs": []
    },
    {
      "cell_type": "code",
      "source": [
        "pip install https://s3-us-west-2.amazonaws.com/ai2-s2-scispacy/releases/v0.4.0/en_core_med7_md-0.4.0.tar.gz\n"
      ],
      "metadata": {
        "id": "tqeDIdX2dEZH"
      },
      "execution_count": null,
      "outputs": []
    },
    {
      "cell_type": "code",
      "source": [
        "nlp = spacy.load(\"en_ner_med7_md\")"
      ],
      "metadata": {
        "id": "eA3aCq5SdF6C"
      },
      "execution_count": null,
      "outputs": []
    },
    {
      "cell_type": "code",
      "source": [
        "# Load the biomedical NLP model\n",
        "nlp = spacy.load(\"en_ner_bc5cdr_md\")"
      ],
      "metadata": {
        "id": "GHTjxVnMVLsf"
      },
      "execution_count": null,
      "outputs": []
    },
    {
      "cell_type": "code",
      "source": [
        "# Process biomedical text\n",
        "text = \"Alzheimer's disease is a neurodegenerative disorder.\"\n",
        "doc = nlp(text)"
      ],
      "metadata": {
        "id": "6yRTm9fAQqmH"
      },
      "execution_count": null,
      "outputs": []
    },
    {
      "cell_type": "code",
      "source": [
        "# Access token-level information\n",
        "for token in doc:\n",
        "    print(token.text, token.lemma_, token.pos_, token.dep_)"
      ],
      "metadata": {
        "id": "H32j2dZoQtRR"
      },
      "execution_count": null,
      "outputs": []
    },
    {
      "cell_type": "code",
      "source": [
        "# Access entity-level information\n",
        "for ent in doc.ents:\n",
        "    print(ent.text, ent.label_)"
      ],
      "metadata": {
        "id": "PV_Vx2UYQv8L"
      },
      "execution_count": null,
      "outputs": []
    }
  ]
}